{
 "cells": [
  {
   "cell_type": "code",
   "execution_count": 1,
   "metadata": {
    "collapsed": true
   },
   "outputs": [],
   "source": [
    "from matplotlib import pyplot as plt\n",
    "import numpy as np\n",
    "import os\n",
    "import pickle\n",
    "import pandas as pd"
   ]
  },
  {
   "cell_type": "code",
   "execution_count": 18,
   "metadata": {
    "collapsed": true
   },
   "outputs": [],
   "source": [
    "path = '/home/ubuntu/gangmin/emd_4410/'\n",
    "file_list = os.listdir(path)"
   ]
  },
  {
   "cell_type": "code",
   "execution_count": 23,
   "metadata": {
    "collapsed": true
   },
   "outputs": [],
   "source": [
    "# label load\n",
    "with open('/home/ubuntu/hyein/tsvt/multimodal/label/label.pickle','rb') as f:\n",
    "    label=pickle.load(f)"
   ]
  },
  {
   "cell_type": "code",
   "execution_count": 24,
   "metadata": {
    "collapsed": true
   },
   "outputs": [],
   "source": [
    "audio={}\n",
    "for i in file_list:\n",
    "    if i[:-7] in label.keys():\n",
    "        with open('/home/ubuntu/gangmin/emd_4410/'+i,'rb') as f:\n",
    "            temp = pickle.load(f)\n",
    "        audio[i[:-7]] = temp[:len(label[i[:-7]])*10]"
   ]
  },
  {
   "cell_type": "code",
   "execution_count": 25,
   "metadata": {
    "collapsed": true
   },
   "outputs": [],
   "source": [
    "for i in audio:\n",
    "    temp = []\n",
    "    for j in range(0,len(audio[i]),10):\n",
    "        temp.append(np.array(audio[i][j:j+10]).mean(axis=0))\n",
    "    audio[i] = np.array(temp)"
   ]
  },
  {
   "cell_type": "code",
   "execution_count": 32,
   "metadata": {},
   "outputs": [
    {
     "data": {
      "text/plain": [
       "array([[ -43.07794254, -198.30787978, -233.5398778 , ..., -157.13609581,\n",
       "          36.74922261,    1.88306184],\n",
       "       [  93.55788565,  250.94382095, -155.22027408, ..., -231.76163627,\n",
       "         110.22945514, -131.01741014],\n",
       "       [-383.3136919 ,   96.04766501,  222.3749243 , ...,  -24.76284658,\n",
       "        -443.50679253, -454.88422163],\n",
       "       ...,\n",
       "       [ -23.9006237 , -114.39957138,  130.62871333, ...,  -45.95552797,\n",
       "          69.31542217,  -49.61573622],\n",
       "       [ 390.1057748 ,  199.5814335 ,  420.38190286, ...,  503.70984753,\n",
       "        -580.65214228, -296.44035967],\n",
       "       [1461.39032107,  -47.85579858, -914.52142471, ...,  -69.78127957,\n",
       "         520.26094097,  -47.02180947]])"
      ]
     },
     "execution_count": 32,
     "metadata": {},
     "output_type": "execute_result"
    }
   ],
   "source": [
    "audio[i]"
   ]
  },
  {
   "cell_type": "code",
   "execution_count": 33,
   "metadata": {},
   "outputs": [],
   "source": [
    "with open('./data/audio_only_emd.pickle','wb') as f:\n",
    "    pickle.dump(audio,f)"
   ]
  },
  {
   "cell_type": "code",
   "execution_count": null,
   "metadata": {
    "collapsed": true
   },
   "outputs": [],
   "source": []
  }
 ],
 "metadata": {
  "kernelspec": {
   "display_name": "Python 3",
   "language": "python",
   "name": "python3"
  },
  "language_info": {
   "codemirror_mode": {
    "name": "ipython",
    "version": 3
   },
   "file_extension": ".py",
   "mimetype": "text/x-python",
   "name": "python",
   "nbconvert_exporter": "python",
   "pygments_lexer": "ipython3",
   "version": "3.6.3"
  }
 },
 "nbformat": 4,
 "nbformat_minor": 2
}
