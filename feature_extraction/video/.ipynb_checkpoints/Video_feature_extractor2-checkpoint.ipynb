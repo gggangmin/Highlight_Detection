{
 "cells": [
  {
   "cell_type": "code",
   "execution_count": 2,
   "metadata": {
    "collapsed": true
   },
   "outputs": [],
   "source": [
    "import numpy as np\n",
    "import torch\n",
    "import string\n",
    "import torch.nn as nn\n",
    "from torch.autograd import Variable\n",
    "from torch.nn.utils.rnn import pad_packed_sequence as unpack\n",
    "from torch.nn.utils.rnn import pack_padded_sequence as pack\n",
    "import math\n",
    "import torch.utils.data as data\n",
    "import json\n",
    "import os\n",
    "import pandas as pd\n",
    "import random\n",
    "import copy\n",
    "import torch.utils.data.sampler as sampler\n",
    "import torch.optim.lr_scheduler as lr_scheduler\n",
    "import pickle\n",
    "import pandas as pd\n",
    "import pandas as pd\n",
    "import numpy as np\n",
    "from torch.utils.data import Dataset\n",
    "from torch.utils.data import DataLoader"
   ]
  },
  {
   "cell_type": "markdown",
   "metadata": {},
   "source": [
    "# Data import & preprocessing "
   ]
  },
  {
   "cell_type": "code",
   "execution_count": 2,
   "metadata": {
    "collapsed": true
   },
   "outputs": [],
   "source": [
    "import pickle\n",
    "with open('/home/ubuntu/gangmin/tsvt/video/lolData/exp_data/gamedata.pickle',\"rb\") as dt:\n",
    "    data = pickle.load(dt)"
   ]
  },
  {
   "cell_type": "code",
   "execution_count": 3,
   "metadata": {},
   "outputs": [
    {
     "data": {
      "text/plain": [
       "Index(['Time', 'Timestamp', 'blue_gold', 'blue_towers', 'blue_barons',\n",
       "       'blue_totalKills', 'blue_dragons', 'red_gold', 'red_towers',\n",
       "       'red_barons', 'red_totalKills', 'red_dragons'],\n",
       "      dtype='object')"
      ]
     },
     "execution_count": 3,
     "metadata": {},
     "output_type": "execute_result"
    }
   ],
   "source": [
    "data['102844212428895431'].columns"
   ]
  },
  {
   "cell_type": "code",
   "execution_count": 60,
   "metadata": {
    "collapsed": true
   },
   "outputs": [],
   "source": [
    "for game in data.keys():\n",
    "    data[game]['Time'] = list(map(lambda x:int(x.split('-')[0])*3600+int(x.split('-')[1])*60+int(x.split('-')[2]),data[game]['Time']))"
   ]
  },
  {
   "cell_type": "code",
   "execution_count": 61,
   "metadata": {
    "collapsed": true
   },
   "outputs": [],
   "source": [
    "for game in data.keys():\n",
    "    init = data[game]['Time'][0]\n",
    "    data[game]['Time'] = list(map(lambda x:x-init,data[game]['Time']))"
   ]
  },
  {
   "cell_type": "code",
   "execution_count": 62,
   "metadata": {
    "scrolled": true
   },
   "outputs": [
    {
     "name": "stderr",
     "output_type": "stream",
     "text": [
      "/home/ubuntu/yes/lib/python3.6/site-packages/ipykernel_launcher.py:11: SettingWithCopyWarning: \n",
      "A value is trying to be set on a copy of a slice from a DataFrame.\n",
      "Try using .loc[row_indexer,col_indexer] = value instead\n",
      "\n",
      "See the caveats in the documentation: https://pandas.pydata.org/pandas-docs/stable/user_guide/indexing.html#returning-a-view-versus-a-copy\n",
      "  # This is added back by InteractiveShellApp.init_path()\n"
     ]
    }
   ],
   "source": [
    "for i in data:\n",
    "    index = 0\n",
    "    time = 0\n",
    "    datas = pd.DataFrame(columns = data[i].columns)\n",
    "    while(time<data[i].iloc[-1]['Time']):\n",
    "        temp = data[i].iloc[[index],:]\n",
    "        if int(temp['Time']) == time:\n",
    "            datas = pd.concat([datas,temp],ignore_index=True)\n",
    "            index+=1\n",
    "        else:\n",
    "            temp['Time'] = time\n",
    "            datas = pd.concat([datas,temp],ignore_index=True)\n",
    "        time+=1\n",
    "    data[i] = datas"
   ]
  },
  {
   "cell_type": "code",
   "execution_count": 63,
   "metadata": {
    "collapsed": true
   },
   "outputs": [],
   "source": [
    "for i in data:\n",
    "    data[i] = data[i].drop(['Time','Timestamp'],axis='columns')"
   ]
  },
  {
   "cell_type": "code",
   "execution_count": 64,
   "metadata": {
    "collapsed": true
   },
   "outputs": [],
   "source": [
    "sample = ['102844412722519367','102844212429550795','102844401151219358','102844401154430631','102844412717014335','102844401153971877','102844224148503678','102844412722847048','102844401152857762','102844412707380528','102844212431516886','102844283027925085','102844412716227901','102844412710001974','102844294670878922','102844294670551241','102844283023599703','102844412704496937','102844235751783874','102844401152071328','102844412709674293','102844401153447587','102844224148896895','102844235746868664','102979081290790284','102844283027531868','102844212431975640','102844401155937960','102844212429092040','102844341906649746','102844412706987311','102844412721339716','102844212430402768','102844341905011343','102844235753356742','102844235750997440','102844412709346612','102844412705217835','102844235752963525','102844412712164667','102844412705545516','102844341912220311','102844341907370644','102844235749424575','102844212429419722','102844294669568199','102844212431779031','102844294666422466','102844224146472059','102844212428895431','102844212429747404','102844235748703677','102844224146930812','102844212430730450','102844294674876621','102844341909598870','102844283020453971','102844294670026952','102844412723174729','102844341904683662','102844283025696858','102844235747261881','102844401154168486','102844235748310460','102844412711836986','102844412723567946','102844235749031358','102844294674286796','102844294666881219','102844412716686654','102844294671796427','102844224145685626','102844412717407552','102844235751390657','102844401156069033','102904869420860038','102910307641576395','102844341905404560','102844341906977427','102844212430075086','102844412711116088','102844401153578660','102844294667405508','102844412706659630','102844212431058132','102844341902586509','102844401152267937','102844212430927059','102844412708953395','102844212429944013','102844341912679064','102844235753749959','102844341908026005','102844283023206486','102844224147717245','102844412704890154','102844212430599377','102844412711443769','102844235747982779']"
   ]
  },
  {
   "cell_type": "code",
   "execution_count": 65,
   "metadata": {
    "collapsed": true
   },
   "outputs": [],
   "source": [
    "temp=[]\n",
    "for i in data:\n",
    "    if i not in sample:\n",
    "        temp.append(i)\n",
    "for i in temp:\n",
    "    data.pop(i)"
   ]
  },
  {
   "cell_type": "code",
   "execution_count": 66,
   "metadata": {
    "collapsed": true
   },
   "outputs": [],
   "source": [
    "'''\n",
    "with open('./data/video_raw_feature_dataframe.pickle','wb') as f:\n",
    "    pickle.dump(data,f)\n",
    "'''"
   ]
  },
  {
   "cell_type": "markdown",
   "metadata": {},
   "source": [
    "# data loading "
   ]
  },
  {
   "cell_type": "code",
   "execution_count": 3,
   "metadata": {},
   "outputs": [],
   "source": [
    "with open('./data/video_raw_feature_dataframe.pickle','rb') as f:\n",
    "    data = pickle.load(f)"
   ]
  },
  {
   "cell_type": "code",
   "execution_count": null,
   "metadata": {
    "collapsed": true
   },
   "outputs": [],
   "source": [
    "'''\n",
    "with open('./data/video_raw_feature.pickle','wb') as f:\n",
    "    pickle.dump(data,f)\n",
    "'''"
   ]
  },
  {
   "cell_type": "code",
   "execution_count": 4,
   "metadata": {
    "collapsed": true
   },
   "outputs": [],
   "source": [
    "with open('./data/video_raw_feature.pickle','rb') as f:\n",
    "    raw = pickle.load(f)"
   ]
  },
  {
   "cell_type": "code",
   "execution_count": 5,
   "metadata": {},
   "outputs": [
    {
     "data": {
      "text/html": [
       "<div>\n",
       "<style scoped>\n",
       "    .dataframe tbody tr th:only-of-type {\n",
       "        vertical-align: middle;\n",
       "    }\n",
       "\n",
       "    .dataframe tbody tr th {\n",
       "        vertical-align: top;\n",
       "    }\n",
       "\n",
       "    .dataframe thead th {\n",
       "        text-align: right;\n",
       "    }\n",
       "</style>\n",
       "<table border=\"1\" class=\"dataframe\">\n",
       "  <thead>\n",
       "    <tr style=\"text-align: right;\">\n",
       "      <th></th>\n",
       "      <th>blue_gold</th>\n",
       "      <th>blue_towers</th>\n",
       "      <th>blue_barons</th>\n",
       "      <th>blue_totalKills</th>\n",
       "      <th>blue_dragons</th>\n",
       "      <th>red_gold</th>\n",
       "      <th>red_towers</th>\n",
       "      <th>red_barons</th>\n",
       "      <th>red_totalKills</th>\n",
       "      <th>red_dragons</th>\n",
       "    </tr>\n",
       "  </thead>\n",
       "  <tbody>\n",
       "    <tr>\n",
       "      <th>0</th>\n",
       "      <td>2500</td>\n",
       "      <td>0</td>\n",
       "      <td>0</td>\n",
       "      <td>0</td>\n",
       "      <td>0</td>\n",
       "      <td>2500</td>\n",
       "      <td>0</td>\n",
       "      <td>0</td>\n",
       "      <td>0</td>\n",
       "      <td>0</td>\n",
       "    </tr>\n",
       "    <tr>\n",
       "      <th>1</th>\n",
       "      <td>2500</td>\n",
       "      <td>0</td>\n",
       "      <td>0</td>\n",
       "      <td>0</td>\n",
       "      <td>0</td>\n",
       "      <td>2500</td>\n",
       "      <td>0</td>\n",
       "      <td>0</td>\n",
       "      <td>0</td>\n",
       "      <td>0</td>\n",
       "    </tr>\n",
       "    <tr>\n",
       "      <th>2</th>\n",
       "      <td>2500</td>\n",
       "      <td>0</td>\n",
       "      <td>0</td>\n",
       "      <td>0</td>\n",
       "      <td>0</td>\n",
       "      <td>2500</td>\n",
       "      <td>0</td>\n",
       "      <td>0</td>\n",
       "      <td>0</td>\n",
       "      <td>0</td>\n",
       "    </tr>\n",
       "    <tr>\n",
       "      <th>3</th>\n",
       "      <td>2500</td>\n",
       "      <td>0</td>\n",
       "      <td>0</td>\n",
       "      <td>0</td>\n",
       "      <td>0</td>\n",
       "      <td>2500</td>\n",
       "      <td>0</td>\n",
       "      <td>0</td>\n",
       "      <td>0</td>\n",
       "      <td>0</td>\n",
       "    </tr>\n",
       "    <tr>\n",
       "      <th>4</th>\n",
       "      <td>2500</td>\n",
       "      <td>0</td>\n",
       "      <td>0</td>\n",
       "      <td>0</td>\n",
       "      <td>0</td>\n",
       "      <td>2500</td>\n",
       "      <td>0</td>\n",
       "      <td>0</td>\n",
       "      <td>0</td>\n",
       "      <td>0</td>\n",
       "    </tr>\n",
       "    <tr>\n",
       "      <th>...</th>\n",
       "      <td>...</td>\n",
       "      <td>...</td>\n",
       "      <td>...</td>\n",
       "      <td>...</td>\n",
       "      <td>...</td>\n",
       "      <td>...</td>\n",
       "      <td>...</td>\n",
       "      <td>...</td>\n",
       "      <td>...</td>\n",
       "      <td>...</td>\n",
       "    </tr>\n",
       "    <tr>\n",
       "      <th>2049</th>\n",
       "      <td>56071</td>\n",
       "      <td>4</td>\n",
       "      <td>0</td>\n",
       "      <td>5</td>\n",
       "      <td>4</td>\n",
       "      <td>62149</td>\n",
       "      <td>8</td>\n",
       "      <td>1</td>\n",
       "      <td>7</td>\n",
       "      <td>0</td>\n",
       "    </tr>\n",
       "    <tr>\n",
       "      <th>2050</th>\n",
       "      <td>56081</td>\n",
       "      <td>4</td>\n",
       "      <td>0</td>\n",
       "      <td>5</td>\n",
       "      <td>4</td>\n",
       "      <td>62159</td>\n",
       "      <td>8</td>\n",
       "      <td>1</td>\n",
       "      <td>7</td>\n",
       "      <td>0</td>\n",
       "    </tr>\n",
       "    <tr>\n",
       "      <th>2051</th>\n",
       "      <td>56091</td>\n",
       "      <td>4</td>\n",
       "      <td>0</td>\n",
       "      <td>5</td>\n",
       "      <td>4</td>\n",
       "      <td>62219</td>\n",
       "      <td>8</td>\n",
       "      <td>1</td>\n",
       "      <td>7</td>\n",
       "      <td>0</td>\n",
       "    </tr>\n",
       "    <tr>\n",
       "      <th>2052</th>\n",
       "      <td>56102</td>\n",
       "      <td>4</td>\n",
       "      <td>0</td>\n",
       "      <td>5</td>\n",
       "      <td>4</td>\n",
       "      <td>62230</td>\n",
       "      <td>8</td>\n",
       "      <td>1</td>\n",
       "      <td>7</td>\n",
       "      <td>0</td>\n",
       "    </tr>\n",
       "    <tr>\n",
       "      <th>2053</th>\n",
       "      <td>56112</td>\n",
       "      <td>4</td>\n",
       "      <td>0</td>\n",
       "      <td>5</td>\n",
       "      <td>4</td>\n",
       "      <td>62240</td>\n",
       "      <td>8</td>\n",
       "      <td>1</td>\n",
       "      <td>7</td>\n",
       "      <td>0</td>\n",
       "    </tr>\n",
       "  </tbody>\n",
       "</table>\n",
       "<p>2054 rows × 10 columns</p>\n",
       "</div>"
      ],
      "text/plain": [
       "     blue_gold blue_towers blue_barons blue_totalKills blue_dragons red_gold  \\\n",
       "0         2500           0           0               0            0     2500   \n",
       "1         2500           0           0               0            0     2500   \n",
       "2         2500           0           0               0            0     2500   \n",
       "3         2500           0           0               0            0     2500   \n",
       "4         2500           0           0               0            0     2500   \n",
       "...        ...         ...         ...             ...          ...      ...   \n",
       "2049     56071           4           0               5            4    62149   \n",
       "2050     56081           4           0               5            4    62159   \n",
       "2051     56091           4           0               5            4    62219   \n",
       "2052     56102           4           0               5            4    62230   \n",
       "2053     56112           4           0               5            4    62240   \n",
       "\n",
       "     red_towers red_barons red_totalKills red_dragons  \n",
       "0             0          0              0           0  \n",
       "1             0          0              0           0  \n",
       "2             0          0              0           0  \n",
       "3             0          0              0           0  \n",
       "4             0          0              0           0  \n",
       "...         ...        ...            ...         ...  \n",
       "2049          8          1              7           0  \n",
       "2050          8          1              7           0  \n",
       "2051          8          1              7           0  \n",
       "2052          8          1              7           0  \n",
       "2053          8          1              7           0  \n",
       "\n",
       "[2054 rows x 10 columns]"
      ]
     },
     "execution_count": 5,
     "metadata": {},
     "output_type": "execute_result"
    }
   ],
   "source": [
    "data['102844212428895431']"
   ]
  },
  {
   "cell_type": "code",
   "execution_count": 6,
   "metadata": {},
   "outputs": [
    {
     "data": {
      "image/png": "[encoded data removed]",
      "text/plain": [
       "<matplotlib.figure.Figure at 0x7feaae86cb70>"
      ]
     },
     "metadata": {},
     "output_type": "display_data"
    }
   ],
   "source": [
    "import matplotlib.pyplot as plt\n",
    "plt.plot(np.array(data['102844212428895431']))\n",
    "plt.show()"
   ]
  },
  {
   "cell_type": "code",
   "execution_count": 11,
   "metadata": {
    "collapsed": true
   },
   "outputs": [],
   "source": [
    "with open('./data/video_statistic_features_one2.pickle','rb') as f:\n",
    "    v2 = pickle.load(f)"
   ]
  },
  {
   "cell_type": "code",
   "execution_count": 12,
   "metadata": {},
   "outputs": [
    {
     "data": {
      "image/png": "[encoded data removed]",
      "text/plain": [
       "<matplotlib.figure.Figure at 0x7f9c65b16518>"
      ]
     },
     "metadata": {},
     "output_type": "display_data"
    }
   ],
   "source": [
    "import matplotlib.pyplot as plt\n",
    "plt.plot(np.array(v2['102844212428895431']))\n",
    "plt.show()"
   ]
  },
  {
   "cell_type": "code",
   "execution_count": 7,
   "metadata": {
    "collapsed": true
   },
   "outputs": [],
   "source": [
    "#변화율만 계산\n",
    "for i in data:\n",
    "    temp = pd.concat([data[i][data[i].index<1],data[i].drop(len(data[i])-1)],ignore_index=True)\n",
    "    data[i] -= temp"
   ]
  },
  {
   "cell_type": "code",
   "execution_count": 8,
   "metadata": {},
   "outputs": [
    {
     "data": {
      "text/html": [
       "<div>\n",
       "<style scoped>\n",
       "    .dataframe tbody tr th:only-of-type {\n",
       "        vertical-align: middle;\n",
       "    }\n",
       "\n",
       "    .dataframe tbody tr th {\n",
       "        vertical-align: top;\n",
       "    }\n",
       "\n",
       "    .dataframe thead th {\n",
       "        text-align: right;\n",
       "    }\n",
       "</style>\n",
       "<table border=\"1\" class=\"dataframe\">\n",
       "  <thead>\n",
       "    <tr style=\"text-align: right;\">\n",
       "      <th></th>\n",
       "      <th>blue_gold</th>\n",
       "      <th>blue_towers</th>\n",
       "      <th>blue_barons</th>\n",
       "      <th>blue_totalKills</th>\n",
       "      <th>blue_dragons</th>\n",
       "      <th>red_gold</th>\n",
       "      <th>red_towers</th>\n",
       "      <th>red_barons</th>\n",
       "      <th>red_totalKills</th>\n",
       "      <th>red_dragons</th>\n",
       "    </tr>\n",
       "  </thead>\n",
       "  <tbody>\n",
       "    <tr>\n",
       "      <th>0</th>\n",
       "      <td>0</td>\n",
       "      <td>0</td>\n",
       "      <td>0</td>\n",
       "      <td>0</td>\n",
       "      <td>0</td>\n",
       "      <td>0</td>\n",
       "      <td>0</td>\n",
       "      <td>0</td>\n",
       "      <td>0</td>\n",
       "      <td>0</td>\n",
       "    </tr>\n",
       "    <tr>\n",
       "      <th>1</th>\n",
       "      <td>0</td>\n",
       "      <td>0</td>\n",
       "      <td>0</td>\n",
       "      <td>0</td>\n",
       "      <td>0</td>\n",
       "      <td>0</td>\n",
       "      <td>0</td>\n",
       "      <td>0</td>\n",
       "      <td>0</td>\n",
       "      <td>0</td>\n",
       "    </tr>\n",
       "    <tr>\n",
       "      <th>2</th>\n",
       "      <td>0</td>\n",
       "      <td>0</td>\n",
       "      <td>0</td>\n",
       "      <td>0</td>\n",
       "      <td>0</td>\n",
       "      <td>0</td>\n",
       "      <td>0</td>\n",
       "      <td>0</td>\n",
       "      <td>0</td>\n",
       "      <td>0</td>\n",
       "    </tr>\n",
       "    <tr>\n",
       "      <th>3</th>\n",
       "      <td>0</td>\n",
       "      <td>0</td>\n",
       "      <td>0</td>\n",
       "      <td>0</td>\n",
       "      <td>0</td>\n",
       "      <td>0</td>\n",
       "      <td>0</td>\n",
       "      <td>0</td>\n",
       "      <td>0</td>\n",
       "      <td>0</td>\n",
       "    </tr>\n",
       "    <tr>\n",
       "      <th>4</th>\n",
       "      <td>0</td>\n",
       "      <td>0</td>\n",
       "      <td>0</td>\n",
       "      <td>0</td>\n",
       "      <td>0</td>\n",
       "      <td>0</td>\n",
       "      <td>0</td>\n",
       "      <td>0</td>\n",
       "      <td>0</td>\n",
       "      <td>0</td>\n",
       "    </tr>\n",
       "    <tr>\n",
       "      <th>...</th>\n",
       "      <td>...</td>\n",
       "      <td>...</td>\n",
       "      <td>...</td>\n",
       "      <td>...</td>\n",
       "      <td>...</td>\n",
       "      <td>...</td>\n",
       "      <td>...</td>\n",
       "      <td>...</td>\n",
       "      <td>...</td>\n",
       "      <td>...</td>\n",
       "    </tr>\n",
       "    <tr>\n",
       "      <th>2049</th>\n",
       "      <td>10</td>\n",
       "      <td>0</td>\n",
       "      <td>0</td>\n",
       "      <td>0</td>\n",
       "      <td>0</td>\n",
       "      <td>31</td>\n",
       "      <td>0</td>\n",
       "      <td>0</td>\n",
       "      <td>0</td>\n",
       "      <td>0</td>\n",
       "    </tr>\n",
       "    <tr>\n",
       "      <th>2050</th>\n",
       "      <td>10</td>\n",
       "      <td>0</td>\n",
       "      <td>0</td>\n",
       "      <td>0</td>\n",
       "      <td>0</td>\n",
       "      <td>10</td>\n",
       "      <td>0</td>\n",
       "      <td>0</td>\n",
       "      <td>0</td>\n",
       "      <td>0</td>\n",
       "    </tr>\n",
       "    <tr>\n",
       "      <th>2051</th>\n",
       "      <td>10</td>\n",
       "      <td>0</td>\n",
       "      <td>0</td>\n",
       "      <td>0</td>\n",
       "      <td>0</td>\n",
       "      <td>60</td>\n",
       "      <td>0</td>\n",
       "      <td>0</td>\n",
       "      <td>0</td>\n",
       "      <td>0</td>\n",
       "    </tr>\n",
       "    <tr>\n",
       "      <th>2052</th>\n",
       "      <td>11</td>\n",
       "      <td>0</td>\n",
       "      <td>0</td>\n",
       "      <td>0</td>\n",
       "      <td>0</td>\n",
       "      <td>11</td>\n",
       "      <td>0</td>\n",
       "      <td>0</td>\n",
       "      <td>0</td>\n",
       "      <td>0</td>\n",
       "    </tr>\n",
       "    <tr>\n",
       "      <th>2053</th>\n",
       "      <td>10</td>\n",
       "      <td>0</td>\n",
       "      <td>0</td>\n",
       "      <td>0</td>\n",
       "      <td>0</td>\n",
       "      <td>10</td>\n",
       "      <td>0</td>\n",
       "      <td>0</td>\n",
       "      <td>0</td>\n",
       "      <td>0</td>\n",
       "    </tr>\n",
       "  </tbody>\n",
       "</table>\n",
       "<p>2054 rows × 10 columns</p>\n",
       "</div>"
      ],
      "text/plain": [
       "     blue_gold blue_towers blue_barons blue_totalKills blue_dragons red_gold  \\\n",
       "0            0           0           0               0            0        0   \n",
       "1            0           0           0               0            0        0   \n",
       "2            0           0           0               0            0        0   \n",
       "3            0           0           0               0            0        0   \n",
       "4            0           0           0               0            0        0   \n",
       "...        ...         ...         ...             ...          ...      ...   \n",
       "2049        10           0           0               0            0       31   \n",
       "2050        10           0           0               0            0       10   \n",
       "2051        10           0           0               0            0       60   \n",
       "2052        11           0           0               0            0       11   \n",
       "2053        10           0           0               0            0       10   \n",
       "\n",
       "     red_towers red_barons red_totalKills red_dragons  \n",
       "0             0          0              0           0  \n",
       "1             0          0              0           0  \n",
       "2             0          0              0           0  \n",
       "3             0          0              0           0  \n",
       "4             0          0              0           0  \n",
       "...         ...        ...            ...         ...  \n",
       "2049          0          0              0           0  \n",
       "2050          0          0              0           0  \n",
       "2051          0          0              0           0  \n",
       "2052          0          0              0           0  \n",
       "2053          0          0              0           0  \n",
       "\n",
       "[2054 rows x 10 columns]"
      ]
     },
     "execution_count": 8,
     "metadata": {},
     "output_type": "execute_result"
    }
   ],
   "source": [
    "data['102844212428895431']"
   ]
  },
  {
   "cell_type": "code",
   "execution_count": 9,
   "metadata": {},
   "outputs": [
    {
     "data": {
      "image/png": "[encoded data removed]",
      "text/plain": [
       "<matplotlib.figure.Figure at 0x7feaaf179f60>"
      ]
     },
     "metadata": {},
     "output_type": "display_data"
    }
   ],
   "source": [
    "import matplotlib.pyplot as plt\n",
    "plt.plot(np.array(data['102844212428895431']))\n",
    "plt.show()"
   ]
  },
  {
   "cell_type": "code",
   "execution_count": 10,
   "metadata": {
    "collapsed": true
   },
   "outputs": [],
   "source": [
    "#정규화\n",
    "from sklearn.preprocessing import MinMaxScaler\n",
    "min_max_scaler=MinMaxScaler()\n",
    "data_scaled={}\n",
    "for i in data:\n",
    "    min_max_scaler.fit(data[i])\n",
    "    output = min_max_scaler.transform(data[i])\n",
    "    data_scaled[i] = pd.DataFrame(output,columns=data[i].columns)"
   ]
  },
  {
   "cell_type": "code",
   "execution_count": 11,
   "metadata": {},
   "outputs": [
    {
     "data": {
      "image/png": "[encoded data removed]",
      "text/plain": [
       "<matplotlib.figure.Figure at 0x7feaaea15860>"
      ]
     },
     "metadata": {},
     "output_type": "display_data"
    }
   ],
   "source": [
    "import matplotlib.pyplot as plt\n",
    "plt.plot(np.array(data_scaled['102844212430599377']))\n",
    "plt.show()"
   ]
  },
  {
   "cell_type": "code",
   "execution_count": 12,
   "metadata": {
    "collapsed": true
   },
   "outputs": [],
   "source": [
    "data_sum={}\n",
    "for i in data:\n",
    "    data_sum[i] = data_scaled[i].values\n",
    "    data_sum[i] = list(map(lambda x: np.sum(x),data_sum[i]))"
   ]
  },
  {
   "cell_type": "code",
   "execution_count": 15,
   "metadata": {
    "collapsed": true
   },
   "outputs": [],
   "source": [
    "\n",
    "with open('./data/video_raw_feature_no_smoothing.pickle','wb') as f:\n",
    "    pickle.dump(data_sum,f)\n"
   ]
  },
  {
   "cell_type": "code",
   "execution_count": 13,
   "metadata": {},
   "outputs": [
    {
     "data": {
      "image/png": "[encoded data removed]",
      "text/plain": [
       "<matplotlib.figure.Figure at 0x7feaaeb76278>"
      ]
     },
     "metadata": {},
     "output_type": "display_data"
    }
   ],
   "source": [
    "#sum\n",
    "import matplotlib.pyplot as plt\n",
    "plt.plot(np.array(data_sum['102844212430599377']))\n",
    "plt.show()"
   ]
  },
  {
   "cell_type": "code",
   "execution_count": 340,
   "metadata": {
    "collapsed": true
   },
   "outputs": [],
   "source": [
    "data_sum_scaled={}\n",
    "for key in data_sum.keys():\n",
    "    m = max(data_sum[key])\n",
    "    m = m/3\n",
    "    data_sum_scaled[key] = list(map(lambda x : x[0] if x[1]>m else 0, enumerate(data_sum[key])))\n",
    "    data_sum_scaled[key] = np.delete(data_sum_scaled[key], np.where(np.array(data_sum_scaled[key]) == 0), axis=0)"
   ]
  },
  {
   "cell_type": "code",
   "execution_count": 302,
   "metadata": {
    "collapsed": true
   },
   "outputs": [],
   "source": [
    "# 경험기반 스무딩\n",
    "for key in data_sum_scaled.keys():\n",
    "    #print(tdelta[key])\n",
    "    \n",
    "    for index in data_sum_scaled[key]:\n",
    "        before=[]\n",
    "        #before 10\n",
    "        v = 1/21\n",
    "        temp=v\n",
    "        for i in range(20):\n",
    "            before.append(temp)\n",
    "            temp+=v\n",
    "        \n",
    "        after=[]\n",
    "        #after 7\n",
    "        v = 1/15\n",
    "        temp=v\n",
    "        for i in range(14):\n",
    "            after.insert(0,temp)\n",
    "            temp+=v\n",
    "        total=before\n",
    "        total.append(1)\n",
    "        total = total+after\n",
    "        ti =0\n",
    "        for i in range(max(0,-20+index),min(len(data_sum[key]),14+index)):\n",
    "            if data_sum[key][i] < total[ti]:\n",
    "                data_sum[key][i] = total[ti]\n",
    "            ti+=1\n",
    "        "
   ]
  },
  {
   "cell_type": "code",
   "execution_count": 343,
   "metadata": {
    "collapsed": true
   },
   "outputs": [],
   "source": [
    "# savgol_filtering\n",
    "\n",
    "def smooth(y, box_pts):\n",
    "    box = np.ones(box_pts)/box_pts\n",
    "    y_smooth = np.convolve(y, box, mode='same')\n",
    "    return y_smooth\n",
    "for key in data_sum.keys():\n",
    "    data_sum[key] = smooth(data_sum[key],7)"
   ]
  },
  {
   "cell_type": "code",
   "execution_count": 344,
   "metadata": {},
   "outputs": [
    {
     "data": {
      "image/png": "[encoded data removed]",
      "text/plain": [
       "<matplotlib.figure.Figure at 0x7f8d15fbdd68>"
      ]
     },
     "metadata": {},
     "output_type": "display_data"
    }
   ],
   "source": [
    "#sum\n",
    "import matplotlib.pyplot as plt\n",
    "plt.plot(np.array(data_sum['102844212430599377']))\n",
    "plt.show()"
   ]
  },
  {
   "cell_type": "code",
   "execution_count": 345,
   "metadata": {
    "collapsed": true
   },
   "outputs": [],
   "source": [
    "with open('./data/video_raw_feature_sum_moving_average.pickle','wb') as f:\n",
    "    pickle.dump(data_sum,f)"
   ]
  },
  {
   "cell_type": "code",
   "execution_count": 305,
   "metadata": {},
   "outputs": [
    {
     "data": {
      "image/png": "[encoded data removed]",
      "text/plain": [
       "<matplotlib.figure.Figure at 0x7f8d23f0fac8>"
      ]
     },
     "metadata": {},
     "output_type": "display_data"
    }
   ],
   "source": [
    "import matplotlib.pyplot as plt\n",
    "plt.plot(np.array(v2['102844212430599377']))\n",
    "plt.show()"
   ]
  },
  {
   "cell_type": "code",
   "execution_count": 255,
   "metadata": {},
   "outputs": [
    {
     "name": "stdout",
     "output_type": "stream",
     "text": [
      "102844212430075086\n",
      "102844212430271695\n",
      "102844212429092040\n",
      "102844212430402768\n",
      "102844212430599377\n",
      "102844212429747404\n",
      "102844224148503678\n",
      "102844212428895431\n",
      "102844224148896895\n",
      "102844212430730450\n",
      "102844224146472059\n",
      "102844212429419722\n",
      "102844212429288649\n",
      "102844212431779031\n",
      "102844212431058132\n",
      "102844212430927059\n",
      "102844212429550795\n",
      "102844212431320277\n",
      "102904869420860038\n",
      "102844224147717245\n",
      "102844212431975640\n",
      "102844224145685626\n",
      "102844212429944013\n",
      "102844224146930812\n",
      "102844212431516886\n",
      "102910307641576395\n",
      "102844341902586509\n",
      "102844341905404560\n",
      "102844401153971877\n",
      "102844401152071328\n",
      "102844294670878922\n",
      "102844294667405508\n",
      "102844341907370644\n",
      "102844341909598870\n",
      "102844401155937960\n",
      "102844401154430631\n",
      "102844283027531868\n",
      "102844283020453971\n",
      "102844401152267937\n",
      "102844401153578660\n",
      "102844294669568199\n",
      "102844294670551241\n",
      "102844283027925085\n",
      "102844283023599703\n",
      "102844341906649746\n",
      "102844341906256529\n",
      "102844294667995333\n",
      "102844294674286796\n",
      "102844283025696858\n",
      "102844283023206486\n",
      "102844294674876621\n",
      "102844294670026952\n",
      "102844294666881219\n",
      "102844294671796427\n",
      "102844294666422466\n",
      "102844294669109446\n",
      "102979081290790284\n",
      "102844283022747733\n",
      "102844283026548827\n",
      "102844283024648280\n",
      "102844283025041497\n",
      "102844283022223444\n",
      "102844283019929682\n",
      "102984708146564216\n",
      "102844341904683662\n",
      "102844341908026005\n",
      "102844341905011343\n",
      "102844341906977427\n",
      "102844341912220311\n",
      "102844341912679064\n",
      "102844401151874719\n",
      "102844401151219358\n",
      "102844401156069033\n",
      "102844401154168486\n",
      "102844401153447587\n",
      "102844401152857762\n",
      "102844235746082230\n",
      "102844235746475447\n",
      "102844235746868664\n",
      "102844235747261881\n",
      "102844235752963525\n",
      "102844235753356742\n",
      "102844235753749959\n",
      "102844235750997440\n",
      "102844235751390657\n",
      "102844235751783874\n",
      "102844235752111555\n",
      "102844235747982779\n",
      "102844235748310460\n",
      "102844235748703677\n",
      "102844235749031358\n",
      "102844235749424575\n",
      "102844412704496937\n",
      "102844412704890154\n",
      "102844412705217835\n",
      "102844412705545516\n",
      "102844412706659630\n",
      "102844412706987311\n",
      "102844412707380528\n",
      "102844412707708209\n",
      "102844412716227901\n",
      "102844412716686654\n",
      "102844412717014335\n",
      "102844412717407552\n",
      "102844412708953395\n",
      "102844412709346612\n",
      "102844412709674293\n",
      "102844412710001974\n",
      "102844412711116088\n",
      "102844412711443769\n",
      "102844412711836986\n",
      "102844412712164667\n",
      "102844412722519367\n",
      "102844412722847048\n",
      "102844412723174729\n",
      "102844412723567946\n",
      "102844412720618818\n",
      "102844412721012035\n",
      "102844412721339716\n"
     ]
    }
   ],
   "source": [
    "for i in v2:\n",
    "    print(i)"
   ]
  },
  {
   "cell_type": "code",
   "execution_count": null,
   "metadata": {
    "collapsed": true
   },
   "outputs": [],
   "source": []
  }
 ],
 "metadata": {
  "kernelspec": {
   "display_name": "hyein",
   "language": "python",
   "name": "hyein"
  },
  "language_info": {
   "codemirror_mode": {
    "name": "ipython",
    "version": 3
   },
   "file_extension": ".py",
   "mimetype": "text/x-python",
   "name": "python",
   "nbconvert_exporter": "python",
   "pygments_lexer": "ipython3",
   "version": "3.6.3"
  }
 },
 "nbformat": 4,
 "nbformat_minor": 2
}
